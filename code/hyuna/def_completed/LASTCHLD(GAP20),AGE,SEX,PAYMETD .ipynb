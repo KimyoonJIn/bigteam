{
 "cells": [
  {
   "cell_type": "code",
   "execution_count": 1,
   "metadata": {},
   "outputs": [
    {
     "name": "stderr",
     "output_type": "stream",
     "text": [
      "C:\\Users\\noni0\\Anaconda3\\lib\\site-packages\\sklearn\\cross_validation.py:41: DeprecationWarning: This module was deprecated in version 0.18 in favor of the model_selection module into which all the refactored classes and functions are moved. Also note that the interface of the new CV iterators are different from that of this module. This module will be removed in 0.20.\n",
      "  \"This module will be removed in 0.20.\", DeprecationWarning)\n"
     ]
    }
   ],
   "source": [
    "import pandas as pd\n",
    "import numpy as np\n",
    "import os\n",
    "#from imblearn.combine import SMOTEENN\n",
    "from imblearn.over_sampling import SMOTE\n",
    "import matplotlib.pyplot as plt\n",
    "from sklearn import preprocessing\n",
    "from sklearn import linear_model\n",
    "from sklearn.metrics import classification_report\n",
    "from numpy import loadtxt\n",
    "from xgboost import XGBClassifier\n",
    "from sklearn.model_selection import train_test_split\n",
    "from sklearn.metrics import accuracy_score\n",
    "from sklearn.pipeline import Pipeline\n",
    "from sklearn.preprocessing import StandardScaler, MinMaxScaler ,normalize\n",
    "from sklearn import preprocessing\n",
    "import seaborn as sns\n",
    "import matplotlib as mpl\n",
    "import matplotlib.pyplot as plt\n",
    "import matplotlib.pylab as pylab\n",
    "import seaborn as sns\n",
    "from collections import Counter\n",
    "%matplotlib inline\n",
    "mpl.style.use( 'ggplot' )\n",
    "sns.set_style( 'white' )\n",
    "pylab.rcParams[ 'figure.figsize' ] = 8 , 6\n"
   ]
  },
  {
   "cell_type": "code",
   "execution_count": 2,
   "metadata": {},
   "outputs": [
    {
     "data": {
      "text/plain": [
       "50    382\n",
       "45    374\n",
       "55    322\n",
       "40    309\n",
       "35    214\n",
       "60    191\n",
       "30     92\n",
       "65     68\n",
       "25     53\n",
       "70      5\n",
       "20      5\n",
       "*       4\n",
       "Name: AGE, dtype: int64"
      ]
     },
     "execution_count": 2,
     "metadata": {},
     "output_type": "execute_result"
    }
   ],
   "source": [
    "df = pd.read_csv('../../data/Data_set.csv',encoding='cp949')\n",
    "df1 = pd.read_csv('../../data/Test_set.csv',encoding='cp949')\n",
    "df1.AGE.value_counts()"
   ]
  },
  {
   "cell_type": "code",
   "execution_count": 4,
   "metadata": {
    "collapsed": true
   },
   "outputs": [],
   "source": [
    "def modefinder(numbers): #최빈값 찾는 함수\n",
    "    c = Counter(numbers)\n",
    "    mode = c.most_common(1)\n",
    "    return mode[0][0]"
   ]
  },
  {
   "cell_type": "code",
   "execution_count": 5,
   "metadata": {
    "collapsed": true
   },
   "outputs": [],
   "source": [
    "def age_mean(columns): #나이에서 *인값을 제외한 평균\n",
    "    for i in range(len(columns)):\n",
    "        if (columns[i] == '*') == True:\n",
    "            del columns[i]\n",
    "    return np.mean(np.array(columns),dtype=np.float64 )"
   ]
  },
  {
   "cell_type": "code",
   "execution_count": 6,
   "metadata": {
    "collapsed": true
   },
   "outputs": [],
   "source": [
    "mean_age = age_mean(df.AGE)"
   ]
  },
  {
   "cell_type": "code",
   "execution_count": 7,
   "metadata": {
    "collapsed": true
   },
   "outputs": [],
   "source": [
    "def mode_sex(columns): #성별이'*'이면 최빈값 할당\n",
    "    for i in range(len(columns)):\n",
    "        if (columns[i] == '*') == True:\n",
    "            columns[i] = modefinder(columns)\n",
    "    return columns"
   ]
  },
  {
   "cell_type": "code",
   "execution_count": 8,
   "metadata": {},
   "outputs": [
    {
     "name": "stderr",
     "output_type": "stream",
     "text": [
      "C:\\Users\\noni0\\Anaconda3\\lib\\site-packages\\ipykernel_launcher.py:4: SettingWithCopyWarning: \n",
      "A value is trying to be set on a copy of a slice from a DataFrame\n",
      "\n",
      "See the caveats in the documentation: http://pandas.pydata.org/pandas-docs/stable/indexing.html#indexing-view-versus-copy\n",
      "  after removing the cwd from sys.path.\n"
     ]
    }
   ],
   "source": [
    "df.SEX= mode_sex(df.SEX)"
   ]
  },
  {
   "cell_type": "code",
   "execution_count": 9,
   "metadata": {
    "collapsed": true
   },
   "outputs": [],
   "source": [
    "def mode_paym_metd(columns): #납부방법이 null이면 최빈값 할당\n",
    "    null_column = df[columns.isnull() == True].index.tolist()\n",
    "    for i in null_column:\n",
    "            columns[i] = modefinder(columns)\n",
    "    return columns"
   ]
  },
  {
   "cell_type": "code",
   "execution_count": 10,
   "metadata": {},
   "outputs": [
    {
     "name": "stderr",
     "output_type": "stream",
     "text": [
      "C:\\Users\\noni0\\Anaconda3\\lib\\site-packages\\ipykernel_launcher.py:4: SettingWithCopyWarning: \n",
      "A value is trying to be set on a copy of a slice from a DataFrame\n",
      "\n",
      "See the caveats in the documentation: http://pandas.pydata.org/pandas-docs/stable/indexing.html#indexing-view-versus-copy\n",
      "  after removing the cwd from sys.path.\n"
     ]
    }
   ],
   "source": [
    "df.PAYM_METD = mode_paym_metd(df.PAYM_METD)"
   ]
  },
  {
   "cell_type": "code",
   "execution_count": 11,
   "metadata": {
    "collapsed": true
   },
   "outputs": [],
   "source": [
    "# plt.scatter(df[\"AGE\"],df[\"LAST_CHLD_AGE\"], color = \"orange\", s = 5)\n",
    "# plt.xlabel(\"AGE\")\n",
    "# plt.ylabel(\"LAST_CHLD_AGE\")\n",
    "# plt.title(\"AGE-LASTCHLD\")\n",
    "# plt.legend()\n",
    "# plt.show()"
   ]
  },
  {
   "cell_type": "code",
   "execution_count": 11,
   "metadata": {
    "collapsed": true
   },
   "outputs": [],
   "source": [
    "def age(columns): #자녀나이로 본인나이 측정, 자녀나이도 4세부터 5세단위로 증가함-> =만 써도 됨\n",
    "    j = 15\n",
    "    k = 4\n",
    "    while j < 70:\n",
    "        j = j+5\n",
    "        k = k+5\n",
    "        columns = np.where((columns == \"*\") & (k == df[\"LAST_CHLD_AGE\"]), j+5 ,columns)\n",
    "        columns = np.where((columns == \"*\") & (df[\"LAST_CHLD_AGE\"] ==0), mean_age ,columns)\n",
    "        columns = np.where((columns == \"*\") & (df[\"LAST_CHLD_AGE\"] ==4), mean_age ,columns) \n",
    "        columns = np.where((columns == \"*\"),mean_age,columns)\n",
    "        if j >70:\n",
    "            break\n",
    "    return columns"
   ]
  },
  {
   "cell_type": "code",
   "execution_count": 12,
   "metadata": {
    "collapsed": true
   },
   "outputs": [],
   "source": [
    "df.AGE = age(df.AGE)"
   ]
  },
  {
   "cell_type": "code",
   "execution_count": 13,
   "metadata": {
    "collapsed": true
   },
   "outputs": [],
   "source": [
    "df[\"AGE\"] = df[\"AGE\"].astype(float)\n",
    "#성인나이로 막내자녀나이 추측하는 함수\n",
    "#이상치 제거한 후(나이차이 열살이하로 나면 최빈값으로 바꿔줌),막내자녀나이가 0이 아닐 때 부모 나잇대별 평균막내자녀나이구한후\n",
    "#부모나잇대에 맞춰서 평균막내자녀나이 할당\n",
    "def mean_chld_age(columns):\n",
    "    set_value_age = list(set(df[\"AGE\"].tolist()))\n",
    "    average_chld_age = []\n",
    "    for value in set_value_age:\n",
    "        average_chld = df[\"LAST_CHLD_AGE\"].loc[((df[\"AGE\"] == value) \\\n",
    "                             & ~(df[\"LAST_CHLD_AGE\"] == 0.0)&(df[\"AGE\"] - df[\"LAST_CHLD_AGE\"]>= 20))].mean()\n",
    "        average_chld_age.append(average_chld)\n",
    "    null_index = df[columns.isnull() == True].index.tolist()\n",
    "    \n",
    "    for null in null_index:\n",
    "        columns[null] = 'a' \n",
    "    \n",
    "    average_chld_age.sort()\n",
    "    set_value_age.sort()\n",
    "    for set_value,average in zip(set_value_age,average_chld_age):\n",
    "        columns = np.where((columns == 'a')&(df[\"AGE\"] == set_value),average,columns)\n",
    "\n",
    "    return columns"
   ]
  },
  {
   "cell_type": "code",
   "execution_count": 14,
   "metadata": {},
   "outputs": [
    {
     "name": "stderr",
     "output_type": "stream",
     "text": [
      "C:\\Users\\noni0\\Anaconda3\\lib\\site-packages\\ipykernel_launcher.py:14: SettingWithCopyWarning: \n",
      "A value is trying to be set on a copy of a slice from a DataFrame\n",
      "\n",
      "See the caveats in the documentation: http://pandas.pydata.org/pandas-docs/stable/indexing.html#indexing-view-versus-copy\n",
      "  \n",
      "C:\\Users\\noni0\\Anaconda3\\lib\\site-packages\\pandas\\core\\indexing.py:179: SettingWithCopyWarning: \n",
      "A value is trying to be set on a copy of a slice from a DataFrame\n",
      "\n",
      "See the caveats in the documentation: http://pandas.pydata.org/pandas-docs/stable/indexing.html#indexing-view-versus-copy\n",
      "  self._setitem_with_indexer(indexer, value)\n"
     ]
    }
   ],
   "source": [
    "df[\"LAST_CHLD_AGE\"] = mean_chld_age(df[\"LAST_CHLD_AGE\"])"
   ]
  },
  {
   "cell_type": "markdown",
   "metadata": {},
   "source": [
    "## MATE_OCCP_NAME_G * 제거"
   ]
  },
  {
   "cell_type": "code",
   "execution_count": 15,
   "metadata": {},
   "outputs": [
    {
     "name": "stdout",
     "output_type": "stream",
     "text": [
      "주부          57392\n",
      "사무직         10053\n",
      "2차산업 종사자     8107\n",
      "자영업          6380\n",
      "3차산업 종사자     4011\n",
      "운전직          2887\n",
      "공무원          2400\n",
      "전문직          2105\n",
      "1차산업 종사자     1411\n",
      "단순 사무직       1316\n",
      "*            1027\n",
      "기업/단체 임원      931\n",
      "고소득 전문직       560\n",
      "단순 노무직        549\n",
      "기타            534\n",
      "예체능계 종사자      461\n",
      "학생            109\n",
      "Name: MATE_OCCP_NAME_G, dtype: int64\n"
     ]
    },
    {
     "data": {
      "text/plain": [
       "3812.359689157518"
      ]
     },
     "execution_count": 15,
     "metadata": {},
     "output_type": "execute_result"
    }
   ],
   "source": [
    "#주부의 추정 소득이 0이고 NaN의 추정소득이 0이기에 NaN값을 주부로 바꿔줌\n",
    "#고소득 전문직 5848.75\n",
    "df.MATE_OCCP_NAME_G = df[\"MATE_OCCP_NAME_G\"].fillna(\"주부\")\n",
    "print(df.MATE_OCCP_NAME_G.value_counts())\n",
    "of_index = df.MATE_OCCP_NAME_G[df.MATE_OCCP_NAME_G==\"2차산업 종사자\"].index.tolist()\n",
    "df.MATE_JOB_INCM.loc[of_index].mean()"
   ]
  },
  {
   "cell_type": "code",
   "execution_count": 16,
   "metadata": {
    "collapsed": true
   },
   "outputs": [],
   "source": [
    "star_index = df[df['MATE_OCCP_NAME_G'] == \"*\"].index.tolist()"
   ]
  },
  {
   "cell_type": "code",
   "execution_count": 17,
   "metadata": {},
   "outputs": [
    {
     "name": "stderr",
     "output_type": "stream",
     "text": [
      "C:\\Users\\noni0\\Anaconda3\\lib\\site-packages\\pandas\\core\\indexing.py:179: SettingWithCopyWarning: \n",
      "A value is trying to be set on a copy of a slice from a DataFrame\n",
      "\n",
      "See the caveats in the documentation: http://pandas.pydata.org/pandas-docs/stable/indexing.html#indexing-view-versus-copy\n",
      "  self._setitem_with_indexer(indexer, value)\n"
     ]
    }
   ],
   "source": [
    "#직업이 *인 사람 중 추정 소득이 0인 사람 주부로 바꿔줌\n",
    "star_data = df.MATE_JOB_INCM.loc[star_index]\n",
    "zero_index = star_data[star_data==0].index.tolist()\n",
    "df.MATE_OCCP_NAME_G.loc[zero_index] = \"주부\"\n",
    "no_zero = star_data[star_data != 0]\n",
    "#* 추정소득 4500이상인 사람 고소득 전문직으로 변경 \n",
    "#* 추정소득 4500미만인 사람 \n",
    "high_index = no_zero[no_zero >= 4500].index.tolist()\n",
    "low_index = no_zero[no_zero < 4500].index.tolist()\n",
    "df.MATE_OCCP_NAME_G.loc[high_index] = \"고소득 전문직\"\n",
    "df.MATE_OCCP_NAME_G.loc[low_index] = \"2차산업 종사자\""
   ]
  },
  {
   "cell_type": "markdown",
   "metadata": {},
   "source": [
    "## OCCP_NAME_G *제거"
   ]
  },
  {
   "cell_type": "code",
   "execution_count": 18,
   "metadata": {},
   "outputs": [
    {
     "name": "stdout",
     "output_type": "stream",
     "text": [
      "주부          27565\n",
      "사무직         16581\n",
      "2차산업 종사자     9601\n",
      "자영업          9485\n",
      "3차산업 종사자     8275\n",
      "공무원          5091\n",
      "전문직          5043\n",
      "단순 사무직       4107\n",
      "학생           3835\n",
      "운전직          2126\n",
      "기타           1672\n",
      "고소득 전문직      1223\n",
      "*            1189\n",
      "1차산업 종사자     1178\n",
      "기업/단체 임원     1041\n",
      "예체능계 종사자      936\n",
      "단순 노무직        821\n",
      "Name: OCCP_NAME_G, dtype: int64\n"
     ]
    },
    {
     "name": "stderr",
     "output_type": "stream",
     "text": [
      "C:\\Users\\noni0\\Anaconda3\\lib\\site-packages\\ipykernel_launcher.py:6: SettingWithCopyWarning: \n",
      "A value is trying to be set on a copy of a slice from a DataFrame\n",
      "\n",
      "See the caveats in the documentation: http://pandas.pydata.org/pandas-docs/stable/indexing.html#indexing-view-versus-copy\n",
      "  \n",
      "C:\\Users\\noni0\\Anaconda3\\lib\\site-packages\\pandas\\core\\indexing.py:179: SettingWithCopyWarning: \n",
      "A value is trying to be set on a copy of a slice from a DataFrame\n",
      "\n",
      "See the caveats in the documentation: http://pandas.pydata.org/pandas-docs/stable/indexing.html#indexing-view-versus-copy\n",
      "  self._setitem_with_indexer(indexer, value)\n"
     ]
    }
   ],
   "source": [
    "print(df.OCCP_NAME_G.value_counts())\n",
    "df.OCCP_NAME_G = df[\"OCCP_NAME_G\"].fillna(\"주부\")\n",
    "s_index = df[df[\"OCCP_NAME_G\"]==\"*\"].index.tolist()\n",
    "s_data = df.CUST_JOB_INCM.loc[s_index]\n",
    "zero_ix = s_data[s_data==0].index.tolist()\n",
    "df.OCCP_NAME_G[zero_ix] = \"주부\"\n",
    "#고소득 전문직, 단순 사무직\n",
    "on_index = df.OCCP_NAME_G[df.OCCP_NAME_G==\"단순 사무직\"].index.tolist()\n",
    "df.CUST_JOB_INCM.loc[on_index].mean()\n",
    "h_index = s_data[s_data >= 4700].index.tolist()\n",
    "l_index = s_data[s_data < 4700].index.tolist()\n",
    "df.OCCP_NAME_G.loc[h_index] = \"고소득 전문직\"\n",
    "df.OCCP_NAME_G.loc[l_index] = \"단순 사무직\""
   ]
  },
  {
   "cell_type": "code",
   "execution_count": 19,
   "metadata": {},
   "outputs": [
    {
     "data": {
      "text/plain": [
       "(array([ 2291,  2534,  4753,  4839,  5066,  6637,  7049,  7500,  8812,\n",
       "         9084,  9086,  9470,  9664, 10006, 10274, 10528, 11698, 11760,\n",
       "        12581, 12710, 12876, 13089, 13133, 16297, 16367, 16437, 19334,\n",
       "        19416, 21083, 21634, 21714, 22952, 23585, 25391, 25613, 25798,\n",
       "        26040, 28584, 29484, 29527, 30961, 31339, 31382, 32257, 32481,\n",
       "        32789, 32871, 32965, 33226, 33340, 33508, 37429, 39639, 39864,\n",
       "        40951, 41275, 41490, 42002, 42206, 42676, 42980, 43391, 43514,\n",
       "        43556, 44075, 44109, 44237, 44325, 44383, 44659, 44816, 45044,\n",
       "        45358, 45414, 46487, 47264, 49001, 50160, 50188, 50421, 50558,\n",
       "        50958, 51391, 51777, 52356, 53610, 55329, 55342, 55988, 56833,\n",
       "        56919, 57655, 57860, 58882, 58889, 59613, 59772, 61146, 61914,\n",
       "        63007, 63696, 65371, 65987, 66301, 66320, 66690, 66762, 66768,\n",
       "        66777, 66943, 67166, 67272, 67645, 68304, 68699, 69636, 69981,\n",
       "        71075, 72267, 72825, 73090, 73324, 74241, 74526, 75717, 76417,\n",
       "        77718, 78943, 78958, 79851, 80870, 81007, 81406, 81982, 82128,\n",
       "        82634, 83174, 83559, 83734, 83997, 84894, 85118, 85919, 87480,\n",
       "        88083, 88383, 88645, 88781, 91239, 91976, 92297, 92334, 92343,\n",
       "        92536, 94796, 95285, 95339, 95951, 96084, 96869, 97051, 99650], dtype=int64),)"
      ]
     },
     "execution_count": 19,
     "metadata": {},
     "output_type": "execute_result"
    }
   ],
   "source": [
    "np.where((df[\"TEL_CNTT_QTR\"]==20162)&(df[\"TEL_MBSP_GRAD\"].isnull() != True))"
   ]
  },
  {
   "cell_type": "code",
   "execution_count": 20,
   "metadata": {
    "collapsed": true
   },
   "outputs": [],
   "source": [
    "df.TEL_MBSP_GRAD = df.TEL_MBSP_GRAD.fillna('Q')"
   ]
  },
  {
   "cell_type": "code",
   "execution_count": 21,
   "metadata": {},
   "outputs": [
    {
     "data": {
      "text/plain": [
       "CUST_ID              0\n",
       "TARGET               0\n",
       "BNK_LNIF_CNT         0\n",
       "CPT_LNIF_CNT         0\n",
       "SPART_LNIF_CNT       0\n",
       "ECT_LNIF_CNT         0\n",
       "TOT_LNIF_AMT         0\n",
       "TOT_CLIF_AMT         0\n",
       "BNK_LNIF_AMT         0\n",
       "CPT_LNIF_AMT         0\n",
       "CRDT_OCCR_MDIF       0\n",
       "SPTCT_OCCR_MDIF      0\n",
       "CRDT_CARD_CNT        0\n",
       "CTCD_OCCR_MDIF       0\n",
       "CB_GUIF_CNT          0\n",
       "CB_GUIF_AMT          0\n",
       "OCCP_NAME_G          0\n",
       "CUST_JOB_INCM        0\n",
       "HSHD_INFR_INCM       0\n",
       "ACTL_FMLY_NUM        0\n",
       "CUST_FMLY_NUM        0\n",
       "LAST_CHLD_AGE        0\n",
       "MATE_OCCP_NAME_G     0\n",
       "MATE_JOB_INCM        0\n",
       "CRDT_LOAN_CNT        0\n",
       "MIN_CNTT_DATE        0\n",
       "TOT_CRLN_AMT         0\n",
       "TOT_REPY_AMT         0\n",
       "CRLN_OVDU_RATE       0\n",
       "CRLN_30OVDU_RATE     0\n",
       "                    ..\n",
       "GDINS_MON_PREM       0\n",
       "SVINS_MON_PREM       0\n",
       "FMLY_GDINS_MNPREM    0\n",
       "FMLY_SVINS_MNPREM    0\n",
       "MAX_MON_PREM         0\n",
       "TOT_PREM             0\n",
       "FMLY_TOT_PREM        0\n",
       "CNTT_LAMT_CNT        0\n",
       "LT1Y_CTLT_CNT        0\n",
       "AUTR_FAIL_MCNT       0\n",
       "FYCM_PAID_AMT        0\n",
       "FMLY_CLAM_CNT        0\n",
       "FMLY_PLPY_CNT        0\n",
       "AGE                  0\n",
       "SEX                  0\n",
       "AVG_CALL_TIME        0\n",
       "AVG_CALL_FREQ        0\n",
       "TEL_MBSP_GRAD        0\n",
       "ARPU                 0\n",
       "MON_TLFE_AMT         0\n",
       "CBPT_MBSP_YN         0\n",
       "MOBL_FATY_PRC        0\n",
       "TEL_CNTT_QTR         0\n",
       "NUM_DAY_SUSP         0\n",
       "CRMM_OVDU_AMT        0\n",
       "TLFE_UNPD_CNT        0\n",
       "LT1Y_MXOD_AMT        0\n",
       "PAYM_METD            0\n",
       "LINE_STUS            0\n",
       "MOBL_PRIN            0\n",
       "Length: 69, dtype: int64"
      ]
     },
     "execution_count": 21,
     "metadata": {},
     "output_type": "execute_result"
    }
   ],
   "source": [
    "df.isnull().sum()"
   ]
  },
  {
   "cell_type": "code",
   "execution_count": 22,
   "metadata": {
    "collapsed": true
   },
   "outputs": [],
   "source": [
    "del df['CUST_ID']\n",
    "df = pd.get_dummies(df)"
   ]
  },
  {
   "cell_type": "code",
   "execution_count": 23,
   "metadata": {
    "collapsed": true
   },
   "outputs": [],
   "source": [
    "df_test = df[:2000]\n",
    "df_train = df[2000:]"
   ]
  },
  {
   "cell_type": "code",
   "execution_count": 24,
   "metadata": {
    "collapsed": true
   },
   "outputs": [],
   "source": [
    "x_data = df_train.drop('TARGET',axis=1)\n",
    "y_data = df_train.TARGET"
   ]
  },
  {
   "cell_type": "code",
   "execution_count": 25,
   "metadata": {
    "collapsed": true
   },
   "outputs": [],
   "source": [
    "\n",
    "X = x_data\n",
    "y = y_data\n",
    "from imblearn.over_sampling import ADASYN \n",
    "from imblearn.over_sampling import RandomOverSampler\n",
    "from imblearn.under_sampling import CondensedNearestNeighbour \n",
    "\n",
    "# undersampling\n",
    "# cnn = CondensedNearestNeighbour(random_state=42) \n",
    "# X_resampled, y_resampled = cnn.fit_sample(X, y)\n",
    "\n",
    "#RANDOM \n",
    "# ros = RandomOverSampler(random_state=42)\n",
    "# X_resampled, y_resampled = ros.fit_sample(X, y)\n",
    "\n",
    "#ADASYN\n",
    "# ada = ADASYN(random_state=42,n_neighbors=3)\n",
    "# X_resampled, y_resampled = ada.fit_sample(X, y)\n",
    "\n",
    "# Apply SMOTE + ENN\n",
    "sm = SMOTE(kind='borderline2')\n",
    "X_resampled, y_resampled = sm.fit_sample(X, y)"
   ]
  },
  {
   "cell_type": "code",
   "execution_count": 26,
   "metadata": {},
   "outputs": [
    {
     "data": {
      "text/html": [
       "<div>\n",
       "<style>\n",
       "    .dataframe thead tr:only-child th {\n",
       "        text-align: right;\n",
       "    }\n",
       "\n",
       "    .dataframe thead th {\n",
       "        text-align: left;\n",
       "    }\n",
       "\n",
       "    .dataframe tbody tr th {\n",
       "        vertical-align: top;\n",
       "    }\n",
       "</style>\n",
       "<table border=\"1\" class=\"dataframe\">\n",
       "  <thead>\n",
       "    <tr style=\"text-align: right;\">\n",
       "      <th></th>\n",
       "      <th>0</th>\n",
       "      <th>1</th>\n",
       "      <th>2</th>\n",
       "      <th>3</th>\n",
       "      <th>4</th>\n",
       "      <th>5</th>\n",
       "      <th>6</th>\n",
       "      <th>7</th>\n",
       "      <th>8</th>\n",
       "      <th>9</th>\n",
       "      <th>...</th>\n",
       "      <th>126</th>\n",
       "      <th>127</th>\n",
       "      <th>128</th>\n",
       "      <th>129</th>\n",
       "      <th>130</th>\n",
       "      <th>131</th>\n",
       "      <th>132</th>\n",
       "      <th>133</th>\n",
       "      <th>134</th>\n",
       "      <th>TARGET</th>\n",
       "    </tr>\n",
       "  </thead>\n",
       "  <tbody>\n",
       "    <tr>\n",
       "      <th>0</th>\n",
       "      <td>0.0</td>\n",
       "      <td>0.0</td>\n",
       "      <td>1.0</td>\n",
       "      <td>1.0</td>\n",
       "      <td>48001.0</td>\n",
       "      <td>48001.0</td>\n",
       "      <td>0.0</td>\n",
       "      <td>0.0</td>\n",
       "      <td>1.0</td>\n",
       "      <td>1.0</td>\n",
       "      <td>...</td>\n",
       "      <td>1.0</td>\n",
       "      <td>0.0</td>\n",
       "      <td>1.0</td>\n",
       "      <td>0.0</td>\n",
       "      <td>1.0</td>\n",
       "      <td>0.0</td>\n",
       "      <td>0.0</td>\n",
       "      <td>0.0</td>\n",
       "      <td>1.0</td>\n",
       "      <td>0</td>\n",
       "    </tr>\n",
       "    <tr>\n",
       "      <th>1</th>\n",
       "      <td>2.0</td>\n",
       "      <td>0.0</td>\n",
       "      <td>0.0</td>\n",
       "      <td>0.0</td>\n",
       "      <td>48001.0</td>\n",
       "      <td>1.0</td>\n",
       "      <td>48001.0</td>\n",
       "      <td>0.0</td>\n",
       "      <td>13.0</td>\n",
       "      <td>0.0</td>\n",
       "      <td>...</td>\n",
       "      <td>0.0</td>\n",
       "      <td>1.0</td>\n",
       "      <td>0.0</td>\n",
       "      <td>0.0</td>\n",
       "      <td>0.0</td>\n",
       "      <td>1.0</td>\n",
       "      <td>0.0</td>\n",
       "      <td>0.0</td>\n",
       "      <td>1.0</td>\n",
       "      <td>0</td>\n",
       "    </tr>\n",
       "    <tr>\n",
       "      <th>2</th>\n",
       "      <td>1.0</td>\n",
       "      <td>2.0</td>\n",
       "      <td>2.0</td>\n",
       "      <td>0.0</td>\n",
       "      <td>15001.0</td>\n",
       "      <td>3001.0</td>\n",
       "      <td>3001.0</td>\n",
       "      <td>12001.0</td>\n",
       "      <td>1.0</td>\n",
       "      <td>0.0</td>\n",
       "      <td>...</td>\n",
       "      <td>0.0</td>\n",
       "      <td>0.0</td>\n",
       "      <td>1.0</td>\n",
       "      <td>0.0</td>\n",
       "      <td>0.0</td>\n",
       "      <td>1.0</td>\n",
       "      <td>0.0</td>\n",
       "      <td>0.0</td>\n",
       "      <td>1.0</td>\n",
       "      <td>1</td>\n",
       "    </tr>\n",
       "    <tr>\n",
       "      <th>3</th>\n",
       "      <td>1.0</td>\n",
       "      <td>0.0</td>\n",
       "      <td>0.0</td>\n",
       "      <td>0.0</td>\n",
       "      <td>9001.0</td>\n",
       "      <td>9001.0</td>\n",
       "      <td>9001.0</td>\n",
       "      <td>0.0</td>\n",
       "      <td>25.0</td>\n",
       "      <td>0.0</td>\n",
       "      <td>...</td>\n",
       "      <td>1.0</td>\n",
       "      <td>0.0</td>\n",
       "      <td>1.0</td>\n",
       "      <td>0.0</td>\n",
       "      <td>0.0</td>\n",
       "      <td>1.0</td>\n",
       "      <td>0.0</td>\n",
       "      <td>0.0</td>\n",
       "      <td>1.0</td>\n",
       "      <td>0</td>\n",
       "    </tr>\n",
       "    <tr>\n",
       "      <th>4</th>\n",
       "      <td>2.0</td>\n",
       "      <td>0.0</td>\n",
       "      <td>0.0</td>\n",
       "      <td>0.0</td>\n",
       "      <td>39001.0</td>\n",
       "      <td>39001.0</td>\n",
       "      <td>39001.0</td>\n",
       "      <td>0.0</td>\n",
       "      <td>1.0</td>\n",
       "      <td>0.0</td>\n",
       "      <td>...</td>\n",
       "      <td>0.0</td>\n",
       "      <td>1.0</td>\n",
       "      <td>0.0</td>\n",
       "      <td>0.0</td>\n",
       "      <td>0.0</td>\n",
       "      <td>1.0</td>\n",
       "      <td>0.0</td>\n",
       "      <td>0.0</td>\n",
       "      <td>1.0</td>\n",
       "      <td>0</td>\n",
       "    </tr>\n",
       "  </tbody>\n",
       "</table>\n",
       "<p>5 rows × 136 columns</p>\n",
       "</div>"
      ],
      "text/plain": [
       "     0    1    2    3        4        5        6        7     8    9   ...    \\\n",
       "0  0.0  0.0  1.0  1.0  48001.0  48001.0      0.0      0.0   1.0  1.0   ...     \n",
       "1  2.0  0.0  0.0  0.0  48001.0      1.0  48001.0      0.0  13.0  0.0   ...     \n",
       "2  1.0  2.0  2.0  0.0  15001.0   3001.0   3001.0  12001.0   1.0  0.0   ...     \n",
       "3  1.0  0.0  0.0  0.0   9001.0   9001.0   9001.0      0.0  25.0  0.0   ...     \n",
       "4  2.0  0.0  0.0  0.0  39001.0  39001.0  39001.0      0.0   1.0  0.0   ...     \n",
       "\n",
       "   126  127  128  129  130  131  132  133  134  TARGET  \n",
       "0  1.0  0.0  1.0  0.0  1.0  0.0  0.0  0.0  1.0       0  \n",
       "1  0.0  1.0  0.0  0.0  0.0  1.0  0.0  0.0  1.0       0  \n",
       "2  0.0  0.0  1.0  0.0  0.0  1.0  0.0  0.0  1.0       1  \n",
       "3  1.0  0.0  1.0  0.0  0.0  1.0  0.0  0.0  1.0       0  \n",
       "4  0.0  1.0  0.0  0.0  0.0  1.0  0.0  0.0  1.0       0  \n",
       "\n",
       "[5 rows x 136 columns]"
      ]
     },
     "execution_count": 26,
     "metadata": {},
     "output_type": "execute_result"
    }
   ],
   "source": [
    "df_1 = pd.DataFrame(X_resampled)\n",
    "df_2 = pd.DataFrame(y_resampled)\n",
    "df_2.columns = ['TARGET']\n",
    "df_final = pd.concat([df_1,df_2],axis=1)\n",
    "df_final.head()"
   ]
  },
  {
   "cell_type": "code",
   "execution_count": 27,
   "metadata": {},
   "outputs": [
    {
     "data": {
      "text/html": [
       "<div>\n",
       "<style>\n",
       "    .dataframe thead tr:only-child th {\n",
       "        text-align: right;\n",
       "    }\n",
       "\n",
       "    .dataframe thead th {\n",
       "        text-align: left;\n",
       "    }\n",
       "\n",
       "    .dataframe tbody tr th {\n",
       "        vertical-align: top;\n",
       "    }\n",
       "</style>\n",
       "<table border=\"1\" class=\"dataframe\">\n",
       "  <thead>\n",
       "    <tr style=\"text-align: right;\">\n",
       "      <th></th>\n",
       "      <th>0</th>\n",
       "      <th>1</th>\n",
       "      <th>2</th>\n",
       "      <th>3</th>\n",
       "      <th>4</th>\n",
       "      <th>5</th>\n",
       "      <th>6</th>\n",
       "      <th>7</th>\n",
       "      <th>8</th>\n",
       "      <th>9</th>\n",
       "      <th>...</th>\n",
       "      <th>126</th>\n",
       "      <th>127</th>\n",
       "      <th>128</th>\n",
       "      <th>129</th>\n",
       "      <th>130</th>\n",
       "      <th>131</th>\n",
       "      <th>132</th>\n",
       "      <th>133</th>\n",
       "      <th>134</th>\n",
       "      <th>TARGET</th>\n",
       "    </tr>\n",
       "  </thead>\n",
       "  <tbody>\n",
       "    <tr>\n",
       "      <th>84845</th>\n",
       "      <td>2.000000</td>\n",
       "      <td>2.000000</td>\n",
       "      <td>4.000000</td>\n",
       "      <td>2.000000</td>\n",
       "      <td>21001.000000</td>\n",
       "      <td>12001.000000</td>\n",
       "      <td>12001.000000</td>\n",
       "      <td>3001.000000</td>\n",
       "      <td>1.000000</td>\n",
       "      <td>61.000000</td>\n",
       "      <td>...</td>\n",
       "      <td>0.000000</td>\n",
       "      <td>1.000000</td>\n",
       "      <td>0.000000</td>\n",
       "      <td>1.0</td>\n",
       "      <td>0.0</td>\n",
       "      <td>0.000000</td>\n",
       "      <td>0.000000</td>\n",
       "      <td>1.0</td>\n",
       "      <td>0.0</td>\n",
       "      <td>0</td>\n",
       "    </tr>\n",
       "    <tr>\n",
       "      <th>130579</th>\n",
       "      <td>0.000000</td>\n",
       "      <td>1.685342</td>\n",
       "      <td>2.685342</td>\n",
       "      <td>1.000000</td>\n",
       "      <td>7585.038152</td>\n",
       "      <td>5057.025435</td>\n",
       "      <td>0.000000</td>\n",
       "      <td>7584.880823</td>\n",
       "      <td>16.775898</td>\n",
       "      <td>26.887949</td>\n",
       "      <td>...</td>\n",
       "      <td>0.157329</td>\n",
       "      <td>1.000000</td>\n",
       "      <td>0.000000</td>\n",
       "      <td>0.0</td>\n",
       "      <td>0.0</td>\n",
       "      <td>0.842671</td>\n",
       "      <td>0.157329</td>\n",
       "      <td>0.0</td>\n",
       "      <td>1.0</td>\n",
       "      <td>1</td>\n",
       "    </tr>\n",
       "    <tr>\n",
       "      <th>63330</th>\n",
       "      <td>0.000000</td>\n",
       "      <td>2.000000</td>\n",
       "      <td>2.000000</td>\n",
       "      <td>0.000000</td>\n",
       "      <td>12001.000000</td>\n",
       "      <td>0.000000</td>\n",
       "      <td>0.000000</td>\n",
       "      <td>12001.000000</td>\n",
       "      <td>0.000000</td>\n",
       "      <td>0.000000</td>\n",
       "      <td>...</td>\n",
       "      <td>0.000000</td>\n",
       "      <td>0.000000</td>\n",
       "      <td>1.000000</td>\n",
       "      <td>0.0</td>\n",
       "      <td>1.0</td>\n",
       "      <td>0.000000</td>\n",
       "      <td>0.000000</td>\n",
       "      <td>0.0</td>\n",
       "      <td>1.0</td>\n",
       "      <td>0</td>\n",
       "    </tr>\n",
       "    <tr>\n",
       "      <th>35973</th>\n",
       "      <td>0.000000</td>\n",
       "      <td>1.000000</td>\n",
       "      <td>2.000000</td>\n",
       "      <td>1.000000</td>\n",
       "      <td>141001.000000</td>\n",
       "      <td>141001.000000</td>\n",
       "      <td>0.000000</td>\n",
       "      <td>3001.000000</td>\n",
       "      <td>13.000000</td>\n",
       "      <td>37.000000</td>\n",
       "      <td>...</td>\n",
       "      <td>0.000000</td>\n",
       "      <td>1.000000</td>\n",
       "      <td>0.000000</td>\n",
       "      <td>1.0</td>\n",
       "      <td>0.0</td>\n",
       "      <td>0.000000</td>\n",
       "      <td>0.000000</td>\n",
       "      <td>0.0</td>\n",
       "      <td>1.0</td>\n",
       "      <td>0</td>\n",
       "    </tr>\n",
       "    <tr>\n",
       "      <th>150204</th>\n",
       "      <td>0.359625</td>\n",
       "      <td>1.359625</td>\n",
       "      <td>1.719249</td>\n",
       "      <td>0.359625</td>\n",
       "      <td>72474.244718</td>\n",
       "      <td>68158.748239</td>\n",
       "      <td>7552.478463</td>\n",
       "      <td>45502.391725</td>\n",
       "      <td>31.738014</td>\n",
       "      <td>49.000000</td>\n",
       "      <td>...</td>\n",
       "      <td>0.000000</td>\n",
       "      <td>0.359625</td>\n",
       "      <td>0.640375</td>\n",
       "      <td>0.0</td>\n",
       "      <td>1.0</td>\n",
       "      <td>0.000000</td>\n",
       "      <td>0.000000</td>\n",
       "      <td>0.0</td>\n",
       "      <td>1.0</td>\n",
       "      <td>1</td>\n",
       "    </tr>\n",
       "  </tbody>\n",
       "</table>\n",
       "<p>5 rows × 136 columns</p>\n",
       "</div>"
      ],
      "text/plain": [
       "               0         1         2         3              4              5  \\\n",
       "84845   2.000000  2.000000  4.000000  2.000000   21001.000000   12001.000000   \n",
       "130579  0.000000  1.685342  2.685342  1.000000    7585.038152    5057.025435   \n",
       "63330   0.000000  2.000000  2.000000  0.000000   12001.000000       0.000000   \n",
       "35973   0.000000  1.000000  2.000000  1.000000  141001.000000  141001.000000   \n",
       "150204  0.359625  1.359625  1.719249  0.359625   72474.244718   68158.748239   \n",
       "\n",
       "                   6             7          8          9   ...         126  \\\n",
       "84845   12001.000000   3001.000000   1.000000  61.000000   ...    0.000000   \n",
       "130579      0.000000   7584.880823  16.775898  26.887949   ...    0.157329   \n",
       "63330       0.000000  12001.000000   0.000000   0.000000   ...    0.000000   \n",
       "35973       0.000000   3001.000000  13.000000  37.000000   ...    0.000000   \n",
       "150204   7552.478463  45502.391725  31.738014  49.000000   ...    0.000000   \n",
       "\n",
       "             127       128  129  130       131       132  133  134  TARGET  \n",
       "84845   1.000000  0.000000  1.0  0.0  0.000000  0.000000  1.0  0.0       0  \n",
       "130579  1.000000  0.000000  0.0  0.0  0.842671  0.157329  0.0  1.0       1  \n",
       "63330   0.000000  1.000000  0.0  1.0  0.000000  0.000000  0.0  1.0       0  \n",
       "35973   1.000000  0.000000  1.0  0.0  0.000000  0.000000  0.0  1.0       0  \n",
       "150204  0.359625  0.640375  0.0  1.0  0.000000  0.000000  0.0  1.0       1  \n",
       "\n",
       "[5 rows x 136 columns]"
      ]
     },
     "execution_count": 27,
     "metadata": {},
     "output_type": "execute_result"
    }
   ],
   "source": [
    "df_final = df_final.sample(frac=1)\n",
    "df_final.head()"
   ]
  },
  {
   "cell_type": "code",
   "execution_count": 28,
   "metadata": {
    "collapsed": true
   },
   "outputs": [],
   "source": [
    "train_y = df_final.TARGET\n",
    "train_x = df_final.drop('TARGET',axis=1)"
   ]
  },
  {
   "cell_type": "code",
   "execution_count": 29,
   "metadata": {
    "collapsed": true
   },
   "outputs": [],
   "source": [
    "test_y = df_test.TARGET\n",
    "test_x = df_test.drop('TARGET',axis=1)"
   ]
  },
  {
   "cell_type": "code",
   "execution_count": 30,
   "metadata": {
    "collapsed": true
   },
   "outputs": [],
   "source": [
    "min_max_scaler = preprocessing.MinMaxScaler(feature_range=(0,5))\n",
    "train_x = min_max_scaler.fit_transform(train_x)\n",
    "test_x = min_max_scaler.fit_transform(test_x)"
   ]
  },
  {
   "cell_type": "code",
   "execution_count": 31,
   "metadata": {},
   "outputs": [
    {
     "name": "stdout",
     "output_type": "stream",
     "text": [
      "Logistic Regression Accuracy :  0.832\n"
     ]
    }
   ],
   "source": [
    "from sklearn import linear_model\n",
    "reg = linear_model.LogisticRegression()\n",
    "reg.fit(train_x,train_y)\n",
    "score = reg.score(test_x,test_y)\n",
    "print('Logistic Regression Accuracy : ',score)"
   ]
  },
  {
   "cell_type": "code",
   "execution_count": 32,
   "metadata": {},
   "outputs": [
    {
     "name": "stdout",
     "output_type": "stream",
     "text": [
      "             precision    recall  f1-score   support\n",
      "\n",
      "          0       0.99      0.83      0.91      1920\n",
      "          1       0.16      0.78      0.27        80\n",
      "\n",
      "avg / total       0.96      0.83      0.88      2000\n",
      "\n"
     ]
    }
   ],
   "source": [
    "from sklearn.metrics import classification_report\n",
    "print(classification_report(test_y,reg.predict(test_x)))"
   ]
  },
  {
   "cell_type": "code",
   "execution_count": 33,
   "metadata": {},
   "outputs": [
    {
     "name": "stdout",
     "output_type": "stream",
     "text": [
      "Logistic Regression used class weight  0.832\n",
      "             precision    recall  f1-score   support\n",
      "\n",
      "          0       0.99      0.83      0.91      1920\n",
      "          1       0.16      0.78      0.27        80\n",
      "\n",
      "avg / total       0.96      0.83      0.88      2000\n",
      "\n"
     ]
    }
   ],
   "source": [
    "reg2 = linear_model.LogisticRegression(class_weight='balanced')\n",
    "reg2.fit(train_x,train_y)\n",
    "score2 = reg2.score(test_x,test_y)\n",
    "print('Logistic Regression used class weight ' ,score2)\n",
    "print(classification_report(test_y,reg2.predict(test_x)))"
   ]
  },
  {
   "cell_type": "code",
   "execution_count": 34,
   "metadata": {},
   "outputs": [
    {
     "name": "stdout",
     "output_type": "stream",
     "text": [
      "             precision    recall  f1-score   support\n",
      "\n",
      "          0       0.98      0.96      0.97      1920\n",
      "          1       0.35      0.46      0.40        80\n",
      "\n",
      "avg / total       0.95      0.94      0.95      2000\n",
      "\n",
      "ACCURACY: 0.9435\n"
     ]
    }
   ],
   "source": [
    "# fit model no training data\n",
    "model = XGBClassifier(learning_rate=0.2,max_depth=7,base_score=0.5,max_delta_step=0,n_estimators=100)\n",
    "\n",
    "pipe = Pipeline([['xg',MinMaxScaler(feature_range=(0,5))],['model',model]])\n",
    "pipe.fit(train_x,train_y)\n",
    "\n",
    "print(classification_report(test_y,pipe.predict(test_x)))\n",
    "print(\"ACCURACY:\",pipe.score(test_x,test_y))"
   ]
  },
  {
   "cell_type": "markdown",
   "metadata": {},
   "source": [
    "AGE GAP 이 15 : \n",
    "1.Logistic Regression Accuracy :  0.831\n",
    "\n",
    "2.classification_report\n",
    "             precision    recall  f1-score   support\n",
    "\n",
    "          0       0.99      0.83      0.90      1920\n",
    "          1       0.16      0.79      0.27        80\n",
    "\n",
    "avg / total       0.96      0.83      0.88      2000\n",
    "\n",
    "3.Logistic Regression used class weight  0.831\n",
    "             precision    recall  f1-score   support\n",
    "\n",
    "          0       0.99      0.83      0.90      1920\n",
    "          1       0.16      0.79      0.27        80\n",
    "\n",
    "avg / total       0.96      0.83      0.88      2000\n",
    "\n",
    "4.XGB\n",
    "\n",
    "                precision    recall  f1-score   support\n",
    "\n",
    "          0       0.97      0.97      0.97      1920\n",
    "          1       0.31      0.38      0.34        80\n",
    "\n",
    "avg / total       0.95      0.94      0.94      2000\n",
    "\n",
    "ACCURACY: 0.942\n"
   ]
  },
  {
   "cell_type": "markdown",
   "metadata": {},
   "source": [
    "AGE GAP이 10:\n",
    "    \n",
    "1.Logistic Regression Accuracy :  0.831\n",
    "\n",
    "2.classification_report\n",
    "             precision    recall  f1-score   support\n",
    "\n",
    "          0       0.99      0.83      0.90      1920\n",
    "          1       0.16      0.79      0.27        80\n",
    "\n",
    "avg / total       0.96      0.83      0.88      2000\n",
    "\n",
    "3.Logistic Regression used class weight  0.831\n",
    "             precision    recall  f1-score   support\n",
    "\n",
    "          0       0.99      0.83      0.90      1920\n",
    "          1       0.16      0.79      0.27        80\n",
    "\n",
    "avg / total       0.96      0.83      0.88      2000\n",
    "\n",
    "\n",
    "4.             precision    recall  f1-score   support\n",
    "\n",
    "          0       0.98      0.96      0.97      1920\n",
    "          1       0.37      0.53      0.43        80\n",
    "\n",
    "avg / total       0.96      0.94      0.95      2000\n",
    "\n",
    "ACCURACY: 0.9445\n"
   ]
  },
  {
   "cell_type": "markdown",
   "metadata": {},
   "source": [
    "# 결론 \n",
    "F1-score기준\n",
    "Logistic : 20 > 10 == 15 (0.001차이)\n",
    "classification: 10==15==20\n",
    "logistic+ weight:  10==15==20\n",
    "XGB: 10> 20==15 (3차이)\n",
    "    "
   ]
  }
 ],
 "metadata": {
  "anaconda-cloud": {},
  "kernelspec": {
   "display_name": "Python 3",
   "language": "python",
   "name": "python3"
  },
  "language_info": {
   "codemirror_mode": {
    "name": "ipython",
    "version": 3
   },
   "file_extension": ".py",
   "mimetype": "text/x-python",
   "name": "python",
   "nbconvert_exporter": "python",
   "pygments_lexer": "ipython3",
   "version": "3.6.1"
  }
 },
 "nbformat": 4,
 "nbformat_minor": 2
}
