{
 "cells": [
  {
   "cell_type": "code",
   "execution_count": null,
   "metadata": {
    "collapsed": true
   },
   "outputs": [],
   "source": [
    "import pandas as pd\n",
    "import numpy as np\n",
    "import os\n",
    "#from imblearn.combine import SMOTEENN\n",
    "import matplotlib.pyplot as plt\n",
    "from sklearn import preprocessing\n",
    "from sklearn import linear_model\n",
    "from sklearn.metrics import classification_report\n",
    "from numpy import loadtxt\n",
    "from xgboost import XGBClassifier\n",
    "from sklearn.model_selection import train_test_split\n",
    "from sklearn.metrics import accuracy_score\n",
    "from sklearn.pipeline import Pipeline\n",
    "from sklearn.preprocessing import StandardScaler, MinMaxScaler ,normalize\n",
    "from sklearn import preprocessing\n",
    "import seaborn as sns\n",
    "import matplotlib as mpl\n",
    "import matplotlib.pyplot as plt\n",
    "import matplotlib.pylab as pylab\n",
    "import seaborn as sns\n",
    "from collections import Counter\n",
    "%matplotlib inline\n",
    "mpl.style.use( 'ggplot' )\n",
    "sns.set_style( 'white' )\n",
    "pylab.rcParams[ 'figure.figsize' ] = 8 , 6\n"
   ]
  },
  {
   "cell_type": "code",
   "execution_count": null,
   "metadata": {
    "collapsed": true
   },
   "outputs": [],
   "source": [
    "df = pd.read_csv('../../data/Data_set.csv',encoding='cp949')\n",
    "df1 = pd.read_csv('../../data/Test_set.csv',encoding='cp949')\n",
    "df1.AGE.value_counts()"
   ]
  },
  {
   "cell_type": "code",
   "execution_count": null,
   "metadata": {
    "collapsed": true
   },
   "outputs": [],
   "source": [
    "def modefinder(numbers):\n",
    "    c = Counter(numbers)\n",
    "    mode = c.most_common(1)\n",
    "    return mode[0][0]"
   ]
  },
  {
   "cell_type": "code",
   "execution_count": null,
   "metadata": {
    "collapsed": true
   },
   "outputs": [],
   "source": [
    "def age_mean(columns):\n",
    "    for i in range(len(columns)):\n",
    "        if (columns[i] == '*') == True:\n",
    "            del columns[i]\n",
    "    return np.mean(np.array(columns),dtype=np.float64 )"
   ]
  },
  {
   "cell_type": "code",
   "execution_count": null,
   "metadata": {
    "collapsed": true
   },
   "outputs": [],
   "source": [
    "def mode_paym_metd(columns): #for sex, paym_metd\n",
    "    null_column = df[columns.isnull() == True].index.tolist()\n",
    "    for i in null_column:\n",
    "            columns[i] = modefinder(columns)\n",
    "    return columns"
   ]
  },
  {
   "cell_type": "code",
   "execution_count": null,
   "metadata": {
    "collapsed": true
   },
   "outputs": [],
   "source": [
    "def mode_sex(columns): #for sex, paym_metd\n",
    "    for i in range(len(columns)):\n",
    "        if (columns[i] == '*') == True:\n",
    "            columns[i] = modefinder(columns)\n",
    "    return columns"
   ]
  },
  {
   "cell_type": "code",
   "execution_count": null,
   "metadata": {
    "collapsed": true
   },
   "outputs": [],
   "source": [
    "df.SEX= mode_sex(df.SEX)\n",
    "df.PAYM_METD = mode_paym_metd(df.PAYM_METD)\n",
    "mean_age = age_mean(df.AGE)\n",
    "df.AGE = age_finder(df.AGE)\n",
    "df.LAST_CHLD_AGE = chld_age_fonder(df.LAST_CHLD_AGE)"
   ]
  },
  {
   "cell_type": "code",
   "execution_count": null,
   "metadata": {
    "collapsed": true
   },
   "outputs": [],
   "source": [
    "def age_finder(columns):\n",
    "    j = 15\n",
    "    k = -1\n",
    "    while j < 70:\n",
    "        j = j+5\n",
    "        k = k+5\n",
    "        columns = np.where((columns == \"*\") & (k < df[\"LAST_CHLD_AGE\"]) & (df[\"LAST_CHLD_AGE\"] <= k+5), j+5 ,columns)\n",
    "        columns = np.where((columns == \"*\") & (k < df[\"LAST_CHLD_AGE\"]) & (df[\"LAST_CHLD_AGE\"] ==0), mean_age ,columns) \n",
    "        columns = np.where((columns == \"*\"),mean_age,columns)\n",
    "        if j >70:\n",
    "            break\n",
    "    return columns"
   ]
  },
  {
   "cell_type": "code",
   "execution_count": null,
   "metadata": {
    "collapsed": true
   },
   "outputs": [],
   "source": [
    "def chld_age_finder(age_column,child_column):\n",
    "    i = 15\n",
    "    l = 4\n",
    "    child_age = []\n",
    "    non_zero_list = []\n",
    "    while i <70:\n",
    "        i = i+5\n",
    "        l = l+5\n",
    "        del child_age[:]\n",
    "        del non_zero_list[:]\n",
    "        age_index = df[age_column == i].index.tolist()\n",
    "        for j in age_index:\n",
    "            child_age.append(df[\"LAST_CHLD_AGE\"][j])\n",
    "        child_age = pd.DataFrame(child_age)\n",
    "        child_age = child_age.dropna()\n",
    "        for k in range(len(child_age)):\n",
    "            if child_age[k] > i - 10:\n",
    "                child_age[k] = mode_finder(child_age)\n",
    "        for non_zero in child_age:\n",
    "            if non_zero != 0:\n",
    "                non_zero_list.append(non_zero)\n",
    "        mean_age_child = np.mean(non_zero_list)\n",
    "        child_column = np.where((df[child_column.isnull() == True]) & (df[\"AGE\"] == 70),mean_age_child,child_column)\n",
    "        child_column = np.where((df[child_column.isnull() == True]) & (i <= df[\"AGE\"])&(df[\"AGE\"] < i+5),mean_age_child,child_column)\n",
    "        child_column = np.where((df[child_column.isnull() == True]),modefinder(df.LAST_CHLD_AGE),child_column)\n",
    "        if  i > 70:\n",
    "            break\n",
    "\n",
    "    return child_column"
   ]
  }
 ],
 "metadata": {
  "kernelspec": {
   "display_name": "Python 3",
   "language": "python",
   "name": "python3"
  },
  "language_info": {
   "codemirror_mode": {
    "name": "ipython",
    "version": 3
   },
   "file_extension": ".py",
   "mimetype": "text/x-python",
   "name": "python",
   "nbconvert_exporter": "python",
   "pygments_lexer": "ipython3",
   "version": "3.6.1"
  }
 },
 "nbformat": 4,
 "nbformat_minor": 2
}
